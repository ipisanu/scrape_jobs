{
 "cells": [
  {
   "cell_type": "code",
   "execution_count": 5,
   "id": "e3f17fb0",
   "metadata": {},
   "outputs": [],
   "source": [
    "import pandas as pd\n",
    "import requests\n",
    "from bs4 import BeautifulSoup\n",
    "import urllib3\n",
    "import time"
   ]
  },
  {
   "cell_type": "code",
   "execution_count": 6,
   "id": "ed1c6f63",
   "metadata": {},
   "outputs": [],
   "source": [
    "headers = {'User-Agent': 'Mozilla/5.0 (Macintosh; Intel Mac OS X 10_10_1) AppleWebKit/537.36 (KHTML, like Gecko) Chrome/39.0.2171.95 Safari/537.36'}"
   ]
  },
  {
   "cell_type": "code",
   "execution_count": 7,
   "id": "094d2a07",
   "metadata": {},
   "outputs": [],
   "source": [
    "r = requests.get('https://www.subito.it/annunci-lombardia/vendita/offerte-lavoro/milano/milano/?q=marketing', headers=headers)"
   ]
  },
  {
   "cell_type": "code",
   "execution_count": 10,
   "id": "eb428933",
   "metadata": {},
   "outputs": [],
   "source": [
    "tree = r.text\n",
    "tree = BeautifulSoup(tree, 'html.parser')"
   ]
  },
  {
   "cell_type": "code",
   "execution_count": 90,
   "id": "eaa54523",
   "metadata": {},
   "outputs": [
    {
     "name": "stdout",
     "output_type": "stream",
     "text": [
      "https://www.subito.it/offerte-lavoro/marketing-brand-ambassador-stand-eventi-milano-411507482\n",
      "https://www.subito.it/offerte-lavoro/agente-immobiliare-con-fisso-mensile-milano-411500892\n",
      "https://www.subito.it/offerte-lavoro/operatore-trice-telefonico-milano-409100827\n",
      "https://www.subito.it/offerte-lavoro/street-promoter-dal-28-novembre-tour-2021-milano-411474794\n",
      "https://www.subito.it/offerte-lavoro/promoter-inizio-immediato-part-time-full-time-milano-411466903\n",
      "https://www.subito.it/offerte-lavoro/operatore-trice-telefonico-milano-409100827\n",
      "https://www.subito.it/offerte-lavoro/operatore-trice-telefonico-milano-409100827\n",
      "https://www.subito.it/offerte-lavoro/commerciale-marketing-milano-411464702\n",
      "https://www.subito.it/offerte-lavoro/marketing-e-vendita-pubblicita-casa-editrice-milano-411359505\n",
      "https://www.subito.it/offerte-lavoro/agente-immobiliare-milano-411261857\n",
      "https://www.subito.it/offerte-lavoro/call-center-milano-411083814\n",
      "https://www.subito.it/offerte-lavoro/media-buyer-milano-409979350\n",
      "https://www.subito.it/offerte-lavoro/front-office-segreteria-milano-407836438\n",
      "https://www.subito.it/offerte-lavoro/consulenti-100-green-lombardia-milano-410899223\n",
      "https://www.subito.it/offerte-lavoro/cassiere-a-addetto-a-alle-vendite-milano-410889337\n",
      "https://www.subito.it/offerte-lavoro/operatore-di-sharing-economy-milano-410880904\n",
      "https://www.subito.it/offerte-lavoro/impiegata-commerciale-milano-410869525\n",
      "https://www.subito.it/offerte-lavoro/collaboratore-virtual-tour-google-maps-milano-milano-410835493\n",
      "https://www.subito.it/offerte-lavoro/consulente-immobiliare-milano-385981201\n",
      "https://www.subito.it/offerte-lavoro/responsabile-milano-377749678\n",
      "https://www.subito.it/offerte-lavoro/consulente-immobiliare-milano-410813082\n",
      "https://www.subito.it/offerte-lavoro/segretaria-accademia-agenzia-moda-spettacolo-milano-354982911\n",
      "https://www.subito.it/offerte-lavoro/collaboratore-smartworking-milano-410767737\n",
      "https://www.subito.it/offerte-lavoro/social-media-marketing-milano-410582316\n",
      "https://www.subito.it/offerte-lavoro/promoter-commerciale-canale-horeca-milano-milano-410204221\n",
      "https://www.subito.it/offerte-lavoro/coordinatore-coordinatrice-dei-servizi-immobiliari-milano-410190046\n",
      "https://www.subito.it/offerte-lavoro/sviluppatore-wordpress-milano-410128137\n",
      "https://www.subito.it/offerte-lavoro/operation-assistant-milano-408970607\n",
      "https://www.subito.it/offerte-lavoro/gilda-s-r-l-milano-409860293\n",
      "https://www.subito.it/offerte-lavoro/assistente-marketing-junior-milano-409453383\n",
      "https://www.subito.it/offerte-lavoro/impiegato-marketing-studio-dentistico-milano-392986095\n",
      "https://www.subito.it/offerte-lavoro/digital-marketing-specialist-milano-409324720\n",
      "https://www.subito.it/offerte-lavoro/marketing-brand-ambassador-stand-eventi-milano-411507482\n",
      "https://www.subito.it/offerte-lavoro/agente-immobiliare-con-fisso-mensile-milano-411500892\n",
      "https://www.subito.it/offerte-lavoro/operatore-trice-telefonico-milano-409100827\n",
      "https://www.subito.it/offerte-lavoro/street-promoter-dal-28-novembre-tour-2021-milano-411474794\n",
      "https://www.subito.it/offerte-lavoro/promoter-inizio-immediato-part-time-full-time-milano-411466903\n",
      "https://www.subito.it/offerte-lavoro/operatore-trice-telefonico-milano-409100827\n",
      "https://www.subito.it/offerte-lavoro/operatore-trice-telefonico-milano-409100827\n",
      "https://www.subito.it/offerte-lavoro/commerciale-marketing-milano-411464702\n",
      "https://www.subito.it/offerte-lavoro/marketing-e-vendita-pubblicita-casa-editrice-milano-411359505\n",
      "https://www.subito.it/offerte-lavoro/agente-immobiliare-milano-411261857\n",
      "https://www.subito.it/offerte-lavoro/call-center-milano-411083814\n",
      "https://www.subito.it/offerte-lavoro/media-buyer-milano-409979350\n",
      "https://www.subito.it/offerte-lavoro/front-office-segreteria-milano-407836438\n",
      "https://www.subito.it/offerte-lavoro/consulenti-100-green-lombardia-milano-410899223\n",
      "https://www.subito.it/offerte-lavoro/cassiere-a-addetto-a-alle-vendite-milano-410889337\n",
      "https://www.subito.it/offerte-lavoro/operatore-di-sharing-economy-milano-410880904\n",
      "https://www.subito.it/offerte-lavoro/impiegata-commerciale-milano-410869525\n",
      "https://www.subito.it/offerte-lavoro/collaboratore-virtual-tour-google-maps-milano-milano-410835493\n",
      "https://www.subito.it/offerte-lavoro/consulente-immobiliare-milano-385981201\n",
      "https://www.subito.it/offerte-lavoro/responsabile-milano-377749678\n",
      "https://www.subito.it/offerte-lavoro/consulente-immobiliare-milano-410813082\n",
      "https://www.subito.it/offerte-lavoro/segretaria-accademia-agenzia-moda-spettacolo-milano-354982911\n",
      "https://www.subito.it/offerte-lavoro/collaboratore-smartworking-milano-410767737\n",
      "https://www.subito.it/offerte-lavoro/social-media-marketing-milano-410582316\n",
      "https://www.subito.it/offerte-lavoro/promoter-commerciale-canale-horeca-milano-milano-410204221\n",
      "https://www.subito.it/offerte-lavoro/coordinatore-coordinatrice-dei-servizi-immobiliari-milano-410190046\n",
      "https://www.subito.it/offerte-lavoro/sviluppatore-wordpress-milano-410128137\n",
      "https://www.subito.it/offerte-lavoro/operation-assistant-milano-408970607\n",
      "https://www.subito.it/offerte-lavoro/gilda-s-r-l-milano-409860293\n",
      "https://www.subito.it/offerte-lavoro/assistente-marketing-junior-milano-409453383\n",
      "https://www.subito.it/offerte-lavoro/impiegato-marketing-studio-dentistico-milano-392986095\n",
      "https://www.subito.it/offerte-lavoro/digital-marketing-specialist-milano-409324720\n"
     ]
    }
   ],
   "source": [
    "urls = []\n",
    "for url in tree:\n",
    "    offers = tree.find_all('div', {'class': 'items__item'})\n",
    "    for a in offers:\n",
    "        text = a.find('a', {'class': 'SmallCard-module_link__9Ey4a link'}, href=True)\n",
    "        try:\n",
    "            urls.append(str(text).split('href=\"')[1].split('.htm')[0])\n",
    "            print(str(text).split('href=\"')[1].split('.htm')[0])\n",
    "        except IndexError:\n",
    "            pass  "
   ]
  },
  {
   "cell_type": "code",
   "execution_count": 79,
   "id": "ecae3d3d",
   "metadata": {},
   "outputs": [],
   "source": [
    "a = tree.find_all('div', {'class': 'items__item'})[10]\n",
    "text = a.find('a', {'class': 'SmallCard-module_link__9Ey4a link'}, href=True)\n",
    "#.find_all(\"a\", attrs={ \"class\" : \"SmallCard-module_link__9Ey4a\"})"
   ]
  },
  {
   "cell_type": "code",
   "execution_count": 80,
   "id": "3eded0f7",
   "metadata": {},
   "outputs": [
    {
     "data": {
      "text/plain": [
       "'https://www.subito.it/offerte-lavoro/marketing-brand-ambassador-stand-eventi-milano-411507482'"
      ]
     },
     "execution_count": 80,
     "metadata": {},
     "output_type": "execute_result"
    }
   ],
   "source": [
    "str(text).split('href=\"')[1].split('.htm')[0]"
   ]
  },
  {
   "cell_type": "code",
   "execution_count": null,
   "id": "414f960e",
   "metadata": {},
   "outputs": [],
   "source": []
  }
 ],
 "metadata": {
  "kernelspec": {
   "display_name": "Python 3",
   "language": "python",
   "name": "python3"
  },
  "language_info": {
   "codemirror_mode": {
    "name": "ipython",
    "version": 3
   },
   "file_extension": ".py",
   "mimetype": "text/x-python",
   "name": "python",
   "nbconvert_exporter": "python",
   "pygments_lexer": "ipython3",
   "version": "3.9.5"
  }
 },
 "nbformat": 4,
 "nbformat_minor": 5
}
